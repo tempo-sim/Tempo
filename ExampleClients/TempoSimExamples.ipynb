{
 "cells": [
  {
   "cell_type": "code",
   "execution_count": null,
   "id": "136d9a3a-0d35-4750-b265-c5c1baf5215b",
   "metadata": {},
   "outputs": [],
   "source": [
    "# Tempo Sample Example Notebook\n",
    "# Welcome! This notebook is intended to demonstrate the use of Tempo's Python API.\n",
    "# It contains examples of:\n",
    "#  - Streaming camera data\n",
    "#  - Manipulating the scene at runtime\n",
    "#  - Adding simulated cameras"
   ]
  },
  {
   "cell_type": "code",
   "execution_count": null,
   "id": "d9c16a12-32cd-4609-8689-ff292cb8b8d2",
   "metadata": {},
   "outputs": [],
   "source": [
    "# Tempo imports\n",
    "import tempo\n",
    "import tempo.tempo_core as tc\n",
    "import tempo.tempo_time as tt\n",
    "import TempoTime.Time_pb2 as Time\n",
    "import tempo.tempo_world as tw\n",
    "import tempo.tempo_sensors as ts\n",
    "import TempoImageUtils as tiu\n",
    "import TempoScripting.Geometry_pb2 as Geometry\n",
    "\n",
    "# Other imports\n",
    "import asyncio\n",
    "import cv2\n",
    "import io\n",
    "import math\n",
    "import numpy as np\n",
    "import random\n",
    "import time"
   ]
  },
  {
   "cell_type": "code",
   "execution_count": null,
   "id": "8fca7bf1-22c1-4337-a89e-edffac7cbbdd",
   "metadata": {},
   "outputs": [],
   "source": [
    "# To connect to Tempo on a different machine\n",
    "await tempo.set_server(address=\"0.0.0.0\")"
   ]
  },
  {
   "cell_type": "code",
   "execution_count": null,
   "id": "f2702a39-808b-4805-968e-145a63ef0376",
   "metadata": {},
   "outputs": [],
   "source": [
    "# Find the Ego actor name\n",
    "available_sensors_response = await ts.get_available_sensors()\n",
    "ego_actor = [available_sensor.owner for available_sensor in available_sensors_response.available_sensors if \"Unitree\" in available_sensor.owner][0]"
   ]
  },
  {
   "cell_type": "code",
   "execution_count": null,
   "id": "43791cc9-cae5-4d19-9a24-e35f394c541f",
   "metadata": {},
   "outputs": [],
   "source": [
    "# Stream color images from the front center camera\n",
    "ego_color_image_stream = asyncio.create_task(tiu.stream_color_images(\"FrontCenterCamera\", ego_actor))"
   ]
  },
  {
   "cell_type": "code",
   "execution_count": null,
   "id": "52a3b2ca-15d4-4a49-9559-4877e0ee2767",
   "metadata": {},
   "outputs": [],
   "source": [
    "# End front center camera color image stream\n",
    "_ = ego_color_image_stream.cancel()"
   ]
  },
  {
   "cell_type": "code",
   "execution_count": null,
   "id": "f43f460f-3107-4b55-9cbc-48fa0b47fb6a",
   "metadata": {},
   "outputs": [],
   "source": [
    "# Stream label images from the front center camera\n",
    "ego_label_image_stream = asyncio.create_task(tiu.stream_label_images(\"FrontCenterCamera\", ego_actor))"
   ]
  },
  {
   "cell_type": "code",
   "execution_count": null,
   "id": "ed91bf6c-2ee6-473b-bd44-5820f8d55d6b",
   "metadata": {},
   "outputs": [],
   "source": [
    "# End front center camera label image stream\n",
    "_ = ego_label_image_stream.cancel()"
   ]
  },
  {
   "cell_type": "code",
   "execution_count": null,
   "id": "783fd7cb-2a1c-4ac6-9a0a-46e19a274aba",
   "metadata": {},
   "outputs": [],
   "source": [
    "# Stream depth images from the front center camera\n",
    "ego_depth_image_stream = asyncio.create_task(tiu.stream_depth_images(\"FrontCenterCamera\", ego_actor))"
   ]
  },
  {
   "cell_type": "code",
   "execution_count": null,
   "id": "4029dc30-2a98-4ad0-a3e3-1f843ab50249",
   "metadata": {},
   "outputs": [],
   "source": [
    "# End front center camera depth image stream\n",
    "_ = ego_depth_image_stream.cancel()"
   ]
  },
  {
   "cell_type": "code",
   "execution_count": null,
   "id": "c88437b3-920a-4eb9-afe3-b87af8892d4e",
   "metadata": {},
   "outputs": [],
   "source": [
    "# Decrease the brightness of the overhead directional light\n",
    "all_actors_response = await tw.get_all_actors()\n",
    "all_directional_lights = [actor.name for actor in all_actors_response.actors if \"DirectionalLight\" in actor.type]\n",
    "for light in all_directional_lights:\n",
    "    await tw.set_float_property(actor=light, component=\"LightComponent0\", property=\"Intensity\", value=.01)"
   ]
  },
  {
   "cell_type": "code",
   "execution_count": null,
   "id": "29dffe7c-649f-427b-883c-ef9874520335",
   "metadata": {},
   "outputs": [],
   "source": [
    "# Increase the brightness of the overhead directional light\n",
    "all_actors_response = await tw.get_all_actors()\n",
    "all_directional_lights = [actor.name for actor in all_actors_response.actors if \"DirectionalLight\" in actor.type]\n",
    "for light in all_directional_lights:\n",
    "    await tw.set_float_property(actor=light, component=\"LightComponent0\", property=\"Intensity\", value=1.0)"
   ]
  },
  {
   "cell_type": "code",
   "execution_count": null,
   "id": "17e94a46-815e-4cbd-8695-a7a89e40d950",
   "metadata": {},
   "outputs": [],
   "source": [
    "# Restart color image stream from the front center camera\n",
    "front_ego_color_image_stream = asyncio.create_task(tiu.stream_color_images(\"FrontCenterCamera\", ego_actor))"
   ]
  },
  {
   "cell_type": "code",
   "execution_count": null,
   "id": "477328eb-0fe0-4970-969f-fca3e932fa10",
   "metadata": {},
   "outputs": [],
   "source": [
    "# Move the camera up 50cm\n",
    "t = Geometry.Transform()\n",
    "t.location.z = 0.5 # meters\n",
    "await tw.set_component_transform(actor=ego_actor, component=\"FrontCenterCamera\", transform=t)"
   ]
  },
  {
   "cell_type": "code",
   "execution_count": null,
   "id": "3971c842-973f-48d4-9335-e435ca6bc318",
   "metadata": {},
   "outputs": [],
   "source": [
    "# Set camera resolution to 1080p (starts at 540p)\n",
    "await tw.set_int_property(actor=ego_actor, component=\"FrontCenterCamera\", property=\"SizeXY.X\", value=1920)\n",
    "await tw.set_int_property(actor=ego_actor, component=\"FrontCenterCamera\", property=\"SizeXY.Y\", value=1080)"
   ]
  },
  {
   "cell_type": "code",
   "execution_count": null,
   "id": "ace5e8ae-920f-4065-b5b3-58c1176d47fa",
   "metadata": {},
   "outputs": [],
   "source": [
    "# End stream from front center camera\n",
    "_ = front_ego_color_image_stream.cancel()"
   ]
  },
  {
   "cell_type": "code",
   "execution_count": null,
   "id": "4c131d2a-aacb-4d1c-8db7-8ae10aae964c",
   "metadata": {},
   "outputs": [],
   "source": [
    "# Add two new cameras, pointed 20 degrees left and right from FrontCenterCamera\n",
    "t_left = Geometry.Transform()\n",
    "t_left.rotation.y = math.pi / 9.0 # radians\n",
    "_ = await tw.add_component(actor=ego_actor, parent=\"SkeletalMesh\", type=\"TempoCamera\", socket=\"Camera\", transform=t_left, name=\"FrontLeftCamera\")\n",
    "\n",
    "t_right = Geometry.Transform()\n",
    "t_right.rotation.y = -math.pi / 9.0 # radians\n",
    "_ = await tw.add_component(actor=ego_actor, parent=\"SkeletalMesh\", type=\"TempoCamera\", socket=\"Camera\", transform=t_right, name=\"FrontRightCamera\")"
   ]
  },
  {
   "cell_type": "code",
   "execution_count": null,
   "id": "148f2c5d-72a1-465a-aac5-e5ac614c704e",
   "metadata": {},
   "outputs": [],
   "source": [
    "# Stream color images from the left and right cameras\n",
    "left_ego_color_image_stream = asyncio.create_task(tiu.stream_color_images(\"FrontLeftCamera\", ego_actor))\n",
    "right_ego_color_image_stream = asyncio.create_task(tiu.stream_color_images(\"FrontRightCamera\", ego_actor))"
   ]
  },
  {
   "cell_type": "code",
   "execution_count": null,
   "id": "0a4e86d4-ac16-4827-a62e-16b1f213359c",
   "metadata": {},
   "outputs": [],
   "source": [
    "# End left and right camera color image streams\n",
    "_ = left_ego_color_image_stream.cancel()\n",
    "_ = right_ego_color_image_stream.cancel()"
   ]
  },
  {
   "cell_type": "code",
   "execution_count": null,
   "id": "b94ae425-e70c-40aa-9a8c-d44aa245a0a1",
   "metadata": {},
   "outputs": [],
   "source": [
    "# Switch to headless mode (to save performance)\n",
    "await tc.set_main_viewport_render_enabled(False)"
   ]
  },
  {
   "cell_type": "code",
   "execution_count": null,
   "id": "43f41de6-8f98-4da0-94bf-35993e6aa670",
   "metadata": {},
   "outputs": [],
   "source": [
    "# !~Note~!\n",
    "# What's with all the 'await's? Tempo comes with both sync and async versions of all its RPCs,\n",
    "# and deduces the correct one to call from the calling context. A Jupyter notebook always\n",
    "# runs in an async context, so you must await all calls to the Tempo API when using one.\n",
    "# Otherwise, Tempo API calls will hang.\n",
    "# In a non-Jupyter Python interpreter you would not need to do this."
   ]
  }
 ],
 "metadata": {
  "kernelspec": {
   "display_name": "Python 3 (ipykernel)",
   "language": "python",
   "name": "python3"
  },
  "language_info": {
   "codemirror_mode": {
    "name": "ipython",
    "version": 3
   },
   "file_extension": ".py",
   "mimetype": "text/x-python",
   "name": "python",
   "nbconvert_exporter": "python",
   "pygments_lexer": "ipython3",
   "version": "3.11.8"
  }
 },
 "nbformat": 4,
 "nbformat_minor": 5
}
